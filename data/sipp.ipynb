{
 "cells": [
  {
   "cell_type": "code",
   "execution_count": 8,
   "metadata": {},
   "outputs": [],
   "source": [
    "##\n",
    "# File: sipp.ipynb\n",
    "# Purpose: Data analysis for the 2020 Census SIPP (Survey of Income and Program Participation).\n",
    "#\tCan read the entire dataset csv (4GB) and extract relevant columns. Relevant columns (those relating to retirement\n",
    "#\taccounts and identifiers) are saved to a smaller csv for analysis.\n",
    "#\tAlso runs calculations on relevant files and saves them for use in viz.\n",
    "\n",
    "import pandas as pd\n",
    "import numpy as np\n",
    "\n",
    "# Snippets from census.gov data usage guide\n",
    "rd_schema = pd.read_json('data/pu2021_schema.json')\n",
    "\n",
    "rd_schema['dtype'] = ['Int64' if x == 'integer' \\\n",
    "\t\t\telse 'object' if x == 'string' \\\n",
    "\t\t\telse 'Float64' if x == 'float' \\\n",
    "\t\t\telse 'ERROR' \\\n",
    "\t\t\tfor x in rd_schema['dtype']]"
   ]
  },
  {
   "cell_type": "code",
   "execution_count": 9,
   "metadata": {},
   "outputs": [
    {
     "name": "stdout",
     "output_type": "stream",
     "text": [
      "            SSUID  SPANEL  SWAVE  PNUM  ERELRPE  ESEX  EORIGIN  ERACE  EEDUC  \\\n",
      "0  00011428507021    2021      1   101        2     1        2      2     42   \n",
      "1  00011428507021    2021      1   101        2     1        2      2     42   \n",
      "2  00011428507021    2021      1   101        2     1        2      2     42   \n",
      "3  00011428507021    2021      1   101        2     1        2      2     42   \n",
      "4  00011428507021    2021      1   101        2     1        2      2     42   \n",
      "\n",
      "   EOWN_SAV  EOWN_CD  EOWN_ST  EOWN_IRAKEO  EOWN_THR401  MONTHCODE  \\\n",
      "0         1        2        2            2            2          1   \n",
      "1         1        2        2            2            2          2   \n",
      "2         1        2        2            2            2          3   \n",
      "3         1        2        2            2            2          4   \n",
      "4         1        2        2            2            2          5   \n",
      "\n",
      "  ERESIDENCEID  TAGE  TAGE_EHC  \n",
      "0       100001    32        30  \n",
      "1       100001    32        30  \n",
      "2       100001    32        31  \n",
      "3       100001    32        31  \n",
      "4       100001    32        31  \n"
     ]
    }
   ],
   "source": [
    "# USE THIS CELL TO EXTRACT COLUMNS FROM WHOLE DATASET -- DONT USE FOR CALCULATIONS\n",
    "# I (Amy) am not committing the full dataset to Git. If you need more columns, let me know and I will extract them.\n",
    "\n",
    "# Snippet from census.gov\n",
    "df_data = pd.read_csv(\"data/pu2021.csv\",\\\n",
    "\t\tnames=rd_schema['name'],\\\n",
    "\t\t#dtype expects a dictionary of key:values\n",
    "\t\tdtype = dict([(i,v) for i,v in zip(rd_schema['name'], rd_schema['dtype'])]),\\\n",
    "\t\t#files are pipe-delimited\n",
    "\t\tsep='|',\\\n",
    "\t\theader=0,\\\n",
    "\t\t#Add variables for analysis here. If you receive an out-of-memory error,\n",
    "\t\t#\teither select less columns, or consider using the Dask module\n",
    "\t\tusecols = [\n",
    "\t\t#Common record-identification variables\n",
    "\t\t'SSUID','PNUM','MONTHCODE','ERESIDENCEID','ERELRPE','SPANEL','SWAVE',\\\n",
    "\t\t#Common demographics variables, including age at time of interview (TAGE)\n",
    "\t\t#\tand monthly age during the reference period (TAGE_EHC)\n",
    "\t\t'ESEX','TAGE','TAGE_EHC','ERACE','EORIGIN','EEDUC',\\\n",
    "\t\t#Additional variables for analysis\n",
    "\t\t'EOWN_IRAKEO', 'EOWN_THR401','EOWN_SAV','EOWN_CD','EOWN_ST'\n",
    "\t\t\t]\n",
    "\t\t)\n",
    "#preview the data\t\t\n",
    "print(df_data.head())\n",
    "df_data.to_csv('data/sipp_data.csv') # Smaller csv that we can work with more easily"
   ]
  },
  {
   "cell_type": "code",
   "execution_count": 34,
   "metadata": {},
   "outputs": [
    {
     "name": "stdout",
     "output_type": "stream",
     "text": [
      "126156 164928 353364 28404\n"
     ]
    }
   ],
   "source": [
    "# USE THIS CELL WHEN CALCULATING\n",
    "data = pd.read_csv('data/sipp_data.csv')\n",
    "unique_data = data.drop_duplicates(subset=[\"SSUID\"])\n",
    "\n",
    "#print(unique_data.head())\n",
    "\n",
    "num_IRA = data[data['EOWN_IRAKEO'] == 1].count()['EOWN_IRAKEO']\n",
    "num_401 = data[data['EOWN_THR401'] == 1].count()['EOWN_THR401']\n",
    "num_SAV = data[data['EOWN_SAV'] == 1].count()['EOWN_SAV']\n",
    "num_CD = data[data['EOWN_CD'] == 1].count()['EOWN_CD']\n",
    "print(num_IRA, num_401, num_SAV, num_CD)\n",
    "#print(num_IRA)"
   ]
  },
  {
   "cell_type": "code",
   "execution_count": 58,
   "metadata": {},
   "outputs": [],
   "source": [
    "ages = unique_data.groupby('TAGE')['TAGE']\n",
    "\n",
    "accounts_by_age = {}\n",
    "for (i, _) in ages:\n",
    "    #print(i)\n",
    "    if not i in accounts_by_age:\n",
    "        accounts_by_age[i] = {}\n",
    "    aged_data = data[data['TAGE'] == i]\n",
    "    accounts_by_age[i]['num_SAV'] = int(aged_data[aged_data['EOWN_SAV'] == 1].count()['EOWN_SAV'])\n",
    "    accounts_by_age[i]['num_401'] = int(aged_data[aged_data['EOWN_THR401'] == 1].count()['EOWN_THR401'])\n",
    "    accounts_by_age[i]['num_CD'] = int(aged_data[aged_data['EOWN_CD'] == 1].count()['EOWN_CD'])\n",
    "    accounts_by_age[i]['num_IRA'] = int(aged_data[aged_data['EOWN_IRAKEO'] == 1].count()['EOWN_IRAKEO'])"
   ]
  },
  {
   "cell_type": "code",
   "execution_count": 63,
   "metadata": {},
   "outputs": [
    {
     "name": "stdout",
     "output_type": "stream",
     "text": [
      "{'account_nums': [{'account': 'IRA', 'num': 126156}, {'account': '401k', 'num': 164928}, {'account': 'Savings', 'num': 353364}, {'account': 'CD', 'num': 28404}], 'accounts_by_age': [{'age': 15, 'account': 'num_SAV', 'num': 1176}, {'age': 15, 'account': 'num_401', 'num': 24}, {'age': 15, 'account': 'num_CD', 'num': 48}, {'age': 15, 'account': 'num_IRA', 'num': 60}, {'age': 16, 'account': 'num_SAV', 'num': 2316}, {'age': 16, 'account': 'num_401', 'num': 0}, {'age': 16, 'account': 'num_CD', 'num': 72}, {'age': 16, 'account': 'num_IRA', 'num': 96}, {'age': 17, 'account': 'num_SAV', 'num': 2640}, {'age': 17, 'account': 'num_401', 'num': 24}, {'age': 17, 'account': 'num_CD', 'num': 60}, {'age': 17, 'account': 'num_IRA', 'num': 108}, {'age': 18, 'account': 'num_SAV', 'num': 2556}, {'age': 18, 'account': 'num_401', 'num': 0}, {'age': 18, 'account': 'num_CD', 'num': 96}, {'age': 18, 'account': 'num_IRA', 'num': 48}, {'age': 19, 'account': 'num_SAV', 'num': 2964}, {'age': 19, 'account': 'num_401', 'num': 108}, {'age': 19, 'account': 'num_CD', 'num': 72}, {'age': 19, 'account': 'num_IRA', 'num': 96}, {'age': 20, 'account': 'num_SAV', 'num': 4068}, {'age': 20, 'account': 'num_401', 'num': 444}, {'age': 20, 'account': 'num_CD', 'num': 72}, {'age': 20, 'account': 'num_IRA', 'num': 288}, {'age': 21, 'account': 'num_SAV', 'num': 4044}, {'age': 21, 'account': 'num_401', 'num': 624}, {'age': 21, 'account': 'num_CD', 'num': 84}, {'age': 21, 'account': 'num_IRA', 'num': 264}, {'age': 22, 'account': 'num_SAV', 'num': 3888}, {'age': 22, 'account': 'num_401', 'num': 552}, {'age': 22, 'account': 'num_CD', 'num': 72}, {'age': 22, 'account': 'num_IRA', 'num': 300}, {'age': 23, 'account': 'num_SAV', 'num': 4428}, {'age': 23, 'account': 'num_401', 'num': 1212}, {'age': 23, 'account': 'num_CD', 'num': 132}, {'age': 23, 'account': 'num_IRA', 'num': 456}, {'age': 24, 'account': 'num_SAV', 'num': 4392}, {'age': 24, 'account': 'num_401', 'num': 1608}, {'age': 24, 'account': 'num_CD', 'num': 108}, {'age': 24, 'account': 'num_IRA', 'num': 612}, {'age': 25, 'account': 'num_SAV', 'num': 4428}, {'age': 25, 'account': 'num_401', 'num': 2028}, {'age': 25, 'account': 'num_CD', 'num': 60}, {'age': 25, 'account': 'num_IRA', 'num': 612}, {'age': 26, 'account': 'num_SAV', 'num': 4248}, {'age': 26, 'account': 'num_401', 'num': 2340}, {'age': 26, 'account': 'num_CD', 'num': 96}, {'age': 26, 'account': 'num_IRA', 'num': 900}, {'age': 27, 'account': 'num_SAV', 'num': 4248}, {'age': 27, 'account': 'num_401', 'num': 2280}, {'age': 27, 'account': 'num_CD', 'num': 84}, {'age': 27, 'account': 'num_IRA', 'num': 972}, {'age': 28, 'account': 'num_SAV', 'num': 5112}, {'age': 28, 'account': 'num_401', 'num': 2772}, {'age': 28, 'account': 'num_CD', 'num': 96}, {'age': 28, 'account': 'num_IRA', 'num': 1080}, {'age': 29, 'account': 'num_SAV', 'num': 4644}, {'age': 29, 'account': 'num_401', 'num': 2772}, {'age': 29, 'account': 'num_CD', 'num': 168}, {'age': 29, 'account': 'num_IRA', 'num': 1020}, {'age': 30, 'account': 'num_SAV', 'num': 4920}, {'age': 30, 'account': 'num_401', 'num': 2916}, {'age': 30, 'account': 'num_CD', 'num': 132}, {'age': 30, 'account': 'num_IRA', 'num': 1380}, {'age': 31, 'account': 'num_SAV', 'num': 4740}, {'age': 31, 'account': 'num_401', 'num': 3156}, {'age': 31, 'account': 'num_CD', 'num': 192}, {'age': 31, 'account': 'num_IRA', 'num': 1104}, {'age': 32, 'account': 'num_SAV', 'num': 4836}, {'age': 32, 'account': 'num_401', 'num': 2808}, {'age': 32, 'account': 'num_CD', 'num': 120}, {'age': 32, 'account': 'num_IRA', 'num': 1200}, {'age': 33, 'account': 'num_SAV', 'num': 5340}, {'age': 33, 'account': 'num_401', 'num': 3360}, {'age': 33, 'account': 'num_CD', 'num': 168}, {'age': 33, 'account': 'num_IRA', 'num': 1380}, {'age': 34, 'account': 'num_SAV', 'num': 5160}, {'age': 34, 'account': 'num_401', 'num': 3408}, {'age': 34, 'account': 'num_CD', 'num': 192}, {'age': 34, 'account': 'num_IRA', 'num': 1572}, {'age': 35, 'account': 'num_SAV', 'num': 5220}, {'age': 35, 'account': 'num_401', 'num': 3432}, {'age': 35, 'account': 'num_CD', 'num': 132}, {'age': 35, 'account': 'num_IRA', 'num': 1404}, {'age': 36, 'account': 'num_SAV', 'num': 5580}, {'age': 36, 'account': 'num_401', 'num': 3612}, {'age': 36, 'account': 'num_CD', 'num': 120}, {'age': 36, 'account': 'num_IRA', 'num': 1500}, {'age': 37, 'account': 'num_SAV', 'num': 5208}, {'age': 37, 'account': 'num_401', 'num': 3300}, {'age': 37, 'account': 'num_CD', 'num': 168}, {'age': 37, 'account': 'num_IRA', 'num': 1716}, {'age': 38, 'account': 'num_SAV', 'num': 5472}, {'age': 38, 'account': 'num_401', 'num': 3528}, {'age': 38, 'account': 'num_CD', 'num': 156}, {'age': 38, 'account': 'num_IRA', 'num': 1608}, {'age': 39, 'account': 'num_SAV', 'num': 5700}, {'age': 39, 'account': 'num_401', 'num': 3888}, {'age': 39, 'account': 'num_CD', 'num': 144}, {'age': 39, 'account': 'num_IRA', 'num': 1716}, {'age': 40, 'account': 'num_SAV', 'num': 5064}, {'age': 40, 'account': 'num_401', 'num': 3504}, {'age': 40, 'account': 'num_CD', 'num': 204}, {'age': 40, 'account': 'num_IRA', 'num': 1584}, {'age': 41, 'account': 'num_SAV', 'num': 5412}, {'age': 41, 'account': 'num_401', 'num': 3540}, {'age': 41, 'account': 'num_CD', 'num': 168}, {'age': 41, 'account': 'num_IRA', 'num': 1668}, {'age': 42, 'account': 'num_SAV', 'num': 4860}, {'age': 42, 'account': 'num_401', 'num': 3264}, {'age': 42, 'account': 'num_CD', 'num': 156}, {'age': 42, 'account': 'num_IRA', 'num': 1548}, {'age': 43, 'account': 'num_SAV', 'num': 4860}, {'age': 43, 'account': 'num_401', 'num': 3312}, {'age': 43, 'account': 'num_CD', 'num': 156}, {'age': 43, 'account': 'num_IRA', 'num': 1488}, {'age': 44, 'account': 'num_SAV', 'num': 4908}, {'age': 44, 'account': 'num_401', 'num': 3168}, {'age': 44, 'account': 'num_CD', 'num': 192}, {'age': 44, 'account': 'num_IRA', 'num': 1680}, {'age': 45, 'account': 'num_SAV', 'num': 4884}, {'age': 45, 'account': 'num_401', 'num': 3168}, {'age': 45, 'account': 'num_CD', 'num': 240}, {'age': 45, 'account': 'num_IRA', 'num': 1392}, {'age': 46, 'account': 'num_SAV', 'num': 4248}, {'age': 46, 'account': 'num_401', 'num': 2976}, {'age': 46, 'account': 'num_CD', 'num': 132}, {'age': 46, 'account': 'num_IRA', 'num': 1188}, {'age': 47, 'account': 'num_SAV', 'num': 5136}, {'age': 47, 'account': 'num_401', 'num': 3024}, {'age': 47, 'account': 'num_CD', 'num': 204}, {'age': 47, 'account': 'num_IRA', 'num': 1668}, {'age': 48, 'account': 'num_SAV', 'num': 4968}, {'age': 48, 'account': 'num_401', 'num': 3324}, {'age': 48, 'account': 'num_CD', 'num': 144}, {'age': 48, 'account': 'num_IRA', 'num': 1728}, {'age': 49, 'account': 'num_SAV', 'num': 5016}, {'age': 49, 'account': 'num_401', 'num': 3108}, {'age': 49, 'account': 'num_CD', 'num': 300}, {'age': 49, 'account': 'num_IRA', 'num': 1404}, {'age': 50, 'account': 'num_SAV', 'num': 5556}, {'age': 50, 'account': 'num_401', 'num': 3456}, {'age': 50, 'account': 'num_CD', 'num': 300}, {'age': 50, 'account': 'num_IRA', 'num': 2016}, {'age': 51, 'account': 'num_SAV', 'num': 5472}, {'age': 51, 'account': 'num_401', 'num': 3156}, {'age': 51, 'account': 'num_CD', 'num': 192}, {'age': 51, 'account': 'num_IRA', 'num': 1968}, {'age': 52, 'account': 'num_SAV', 'num': 4992}, {'age': 52, 'account': 'num_401', 'num': 3516}, {'age': 52, 'account': 'num_CD', 'num': 276}, {'age': 52, 'account': 'num_IRA', 'num': 2076}, {'age': 53, 'account': 'num_SAV', 'num': 5220}, {'age': 53, 'account': 'num_401', 'num': 3240}, {'age': 53, 'account': 'num_CD', 'num': 348}, {'age': 53, 'account': 'num_IRA', 'num': 2028}, {'age': 54, 'account': 'num_SAV', 'num': 5292}, {'age': 54, 'account': 'num_401', 'num': 3348}, {'age': 54, 'account': 'num_CD', 'num': 324}, {'age': 54, 'account': 'num_IRA', 'num': 2088}, {'age': 55, 'account': 'num_SAV', 'num': 5532}, {'age': 55, 'account': 'num_401', 'num': 3432}, {'age': 55, 'account': 'num_CD', 'num': 336}, {'age': 55, 'account': 'num_IRA', 'num': 2100}, {'age': 56, 'account': 'num_SAV', 'num': 6180}, {'age': 56, 'account': 'num_401', 'num': 3888}, {'age': 56, 'account': 'num_CD', 'num': 288}, {'age': 56, 'account': 'num_IRA', 'num': 2232}, {'age': 57, 'account': 'num_SAV', 'num': 6180}, {'age': 57, 'account': 'num_401', 'num': 3780}, {'age': 57, 'account': 'num_CD', 'num': 636}, {'age': 57, 'account': 'num_IRA', 'num': 2448}, {'age': 58, 'account': 'num_SAV', 'num': 6300}, {'age': 58, 'account': 'num_401', 'num': 3828}, {'age': 58, 'account': 'num_CD', 'num': 552}, {'age': 58, 'account': 'num_IRA', 'num': 2568}, {'age': 59, 'account': 'num_SAV', 'num': 6564}, {'age': 59, 'account': 'num_401', 'num': 3972}, {'age': 59, 'account': 'num_CD', 'num': 492}, {'age': 59, 'account': 'num_IRA', 'num': 2688}, {'age': 60, 'account': 'num_SAV', 'num': 7176}, {'age': 60, 'account': 'num_401', 'num': 4128}, {'age': 60, 'account': 'num_CD', 'num': 696}, {'age': 60, 'account': 'num_IRA', 'num': 2772}, {'age': 61, 'account': 'num_SAV', 'num': 6780}, {'age': 61, 'account': 'num_401', 'num': 3720}, {'age': 61, 'account': 'num_CD', 'num': 660}, {'age': 61, 'account': 'num_IRA', 'num': 2868}, {'age': 62, 'account': 'num_SAV', 'num': 6876}, {'age': 62, 'account': 'num_401', 'num': 3864}, {'age': 62, 'account': 'num_CD', 'num': 468}, {'age': 62, 'account': 'num_IRA', 'num': 3264}, {'age': 63, 'account': 'num_SAV', 'num': 7068}, {'age': 63, 'account': 'num_401', 'num': 3684}, {'age': 63, 'account': 'num_CD', 'num': 756}, {'age': 63, 'account': 'num_IRA', 'num': 3216}, {'age': 64, 'account': 'num_SAV', 'num': 6996}, {'age': 64, 'account': 'num_401', 'num': 3360}, {'age': 64, 'account': 'num_CD', 'num': 720}, {'age': 64, 'account': 'num_IRA', 'num': 2880}, {'age': 65, 'account': 'num_SAV', 'num': 6720}, {'age': 65, 'account': 'num_401', 'num': 2964}, {'age': 65, 'account': 'num_CD', 'num': 672}, {'age': 65, 'account': 'num_IRA', 'num': 3384}, {'age': 66, 'account': 'num_SAV', 'num': 6888}, {'age': 66, 'account': 'num_401', 'num': 2232}, {'age': 66, 'account': 'num_CD', 'num': 864}, {'age': 66, 'account': 'num_IRA', 'num': 3228}, {'age': 67, 'account': 'num_SAV', 'num': 6444}, {'age': 67, 'account': 'num_401', 'num': 2412}, {'age': 67, 'account': 'num_CD', 'num': 804}, {'age': 67, 'account': 'num_IRA', 'num': 3168}, {'age': 68, 'account': 'num_SAV', 'num': 6540}, {'age': 68, 'account': 'num_401', 'num': 2412}, {'age': 68, 'account': 'num_CD', 'num': 696}, {'age': 68, 'account': 'num_IRA', 'num': 3276}, {'age': 69, 'account': 'num_SAV', 'num': 6336}, {'age': 69, 'account': 'num_401', 'num': 2268}, {'age': 69, 'account': 'num_CD', 'num': 900}, {'age': 69, 'account': 'num_IRA', 'num': 3288}, {'age': 70, 'account': 'num_SAV', 'num': 6012}, {'age': 70, 'account': 'num_401', 'num': 1800}, {'age': 70, 'account': 'num_CD', 'num': 840}, {'age': 70, 'account': 'num_IRA', 'num': 3228}, {'age': 71, 'account': 'num_SAV', 'num': 6276}, {'age': 71, 'account': 'num_401', 'num': 1956}, {'age': 71, 'account': 'num_CD', 'num': 1020}, {'age': 71, 'account': 'num_IRA', 'num': 3204}, {'age': 72, 'account': 'num_SAV', 'num': 5868}, {'age': 72, 'account': 'num_401', 'num': 1668}, {'age': 72, 'account': 'num_CD', 'num': 912}, {'age': 72, 'account': 'num_IRA', 'num': 2988}, {'age': 73, 'account': 'num_SAV', 'num': 5808}, {'age': 73, 'account': 'num_401', 'num': 1512}, {'age': 73, 'account': 'num_CD', 'num': 852}, {'age': 73, 'account': 'num_IRA', 'num': 3036}, {'age': 74, 'account': 'num_SAV', 'num': 5700}, {'age': 74, 'account': 'num_401', 'num': 1392}, {'age': 74, 'account': 'num_CD', 'num': 888}, {'age': 74, 'account': 'num_IRA', 'num': 2940}, {'age': 75, 'account': 'num_SAV', 'num': 4488}, {'age': 75, 'account': 'num_401', 'num': 948}, {'age': 75, 'account': 'num_CD', 'num': 684}, {'age': 75, 'account': 'num_IRA', 'num': 2256}, {'age': 76, 'account': 'num_SAV', 'num': 3876}, {'age': 76, 'account': 'num_401', 'num': 840}, {'age': 76, 'account': 'num_CD', 'num': 708}, {'age': 76, 'account': 'num_IRA', 'num': 1884}, {'age': 77, 'account': 'num_SAV', 'num': 4128}, {'age': 77, 'account': 'num_401', 'num': 996}, {'age': 77, 'account': 'num_CD', 'num': 792}, {'age': 77, 'account': 'num_IRA', 'num': 2016}, {'age': 78, 'account': 'num_SAV', 'num': 3816}, {'age': 78, 'account': 'num_401', 'num': 780}, {'age': 78, 'account': 'num_CD', 'num': 660}, {'age': 78, 'account': 'num_IRA', 'num': 1884}, {'age': 79, 'account': 'num_SAV', 'num': 3432}, {'age': 79, 'account': 'num_401', 'num': 672}, {'age': 79, 'account': 'num_CD', 'num': 588}, {'age': 79, 'account': 'num_IRA', 'num': 1800}, {'age': 80, 'account': 'num_SAV', 'num': 2940}, {'age': 80, 'account': 'num_401', 'num': 372}, {'age': 80, 'account': 'num_CD', 'num': 504}, {'age': 80, 'account': 'num_IRA', 'num': 1392}, {'age': 81, 'account': 'num_SAV', 'num': 2724}, {'age': 81, 'account': 'num_401', 'num': 444}, {'age': 81, 'account': 'num_CD', 'num': 600}, {'age': 81, 'account': 'num_IRA', 'num': 1308}, {'age': 82, 'account': 'num_SAV', 'num': 2400}, {'age': 82, 'account': 'num_401', 'num': 348}, {'age': 82, 'account': 'num_CD', 'num': 372}, {'age': 82, 'account': 'num_IRA', 'num': 1176}, {'age': 83, 'account': 'num_SAV', 'num': 2496}, {'age': 83, 'account': 'num_401', 'num': 348}, {'age': 83, 'account': 'num_CD', 'num': 480}, {'age': 83, 'account': 'num_IRA', 'num': 1212}, {'age': 84, 'account': 'num_SAV', 'num': 1848}, {'age': 84, 'account': 'num_401', 'num': 300}, {'age': 84, 'account': 'num_CD', 'num': 456}, {'age': 84, 'account': 'num_IRA', 'num': 1032}, {'age': 85, 'account': 'num_SAV', 'num': 1752}, {'age': 85, 'account': 'num_401', 'num': 228}, {'age': 85, 'account': 'num_CD', 'num': 324}, {'age': 85, 'account': 'num_IRA', 'num': 912}, {'age': 86, 'account': 'num_SAV', 'num': 1644}, {'age': 86, 'account': 'num_401', 'num': 288}, {'age': 86, 'account': 'num_CD', 'num': 444}, {'age': 86, 'account': 'num_IRA', 'num': 780}, {'age': 87, 'account': 'num_SAV', 'num': 2280}, {'age': 87, 'account': 'num_401', 'num': 336}, {'age': 87, 'account': 'num_CD', 'num': 600}, {'age': 87, 'account': 'num_IRA', 'num': 1092}, {'age': 88, 'account': 'num_SAV', 'num': 1836}, {'age': 88, 'account': 'num_401', 'num': 240}, {'age': 88, 'account': 'num_CD', 'num': 408}, {'age': 88, 'account': 'num_IRA', 'num': 708}, {'age': 89, 'account': 'num_SAV', 'num': 432}, {'age': 89, 'account': 'num_401', 'num': 36}, {'age': 89, 'account': 'num_CD', 'num': 72}, {'age': 89, 'account': 'num_IRA', 'num': 228}, {'age': 90, 'account': 'num_SAV', 'num': 1812}, {'age': 90, 'account': 'num_401', 'num': 180}, {'age': 90, 'account': 'num_CD', 'num': 480}, {'age': 90, 'account': 'num_IRA', 'num': 684}]}\n"
     ]
    }
   ],
   "source": [
    "# Save to JSON for viz\n",
    "import json\n",
    "\n",
    "to_write = {\n",
    "    \"account_nums\": [\n",
    "        {\n",
    "            \"account\": \"IRA\",\n",
    "            \"num\": int(num_IRA)\n",
    "        },\n",
    "        {\n",
    "            \"account\": \"401k\",\n",
    "            \"num\": int(num_401)\n",
    "        },\n",
    "        {\n",
    "            \"account\": \"Savings\",\n",
    "            \"num\": int(num_SAV)\n",
    "        },\n",
    "        {\n",
    "            \"account\": \"CD\",\n",
    "            \"num\": int(num_CD)\n",
    "        }\n",
    "    ],\n",
    "    \"accounts_by_age\": []\n",
    "}\n",
    "\n",
    "for i in accounts_by_age:\n",
    "    for x in accounts_by_age[i]:\n",
    "        to_write['accounts_by_age'].append({\"age\": i, \"account\": x, \"num\": accounts_by_age[i][x]})\n",
    "\n",
    "print(to_write)\n",
    "    \n",
    "json_object = json.dumps(to_write, indent=4)\n",
    "with open(\"sipp.json\", \"w\") as outfile:\n",
    "    outfile.write(json_object)"
   ]
  }
 ],
 "metadata": {
  "kernelspec": {
   "display_name": "base",
   "language": "python",
   "name": "python3"
  },
  "language_info": {
   "codemirror_mode": {
    "name": "ipython",
    "version": 3
   },
   "file_extension": ".py",
   "mimetype": "text/x-python",
   "name": "python",
   "nbconvert_exporter": "python",
   "pygments_lexer": "ipython3",
   "version": "3.11.2"
  },
  "orig_nbformat": 4
 },
 "nbformat": 4,
 "nbformat_minor": 2
}
