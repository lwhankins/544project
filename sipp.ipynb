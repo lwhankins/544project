{
 "cells": [
  {
   "cell_type": "code",
   "execution_count": 8,
   "metadata": {},
   "outputs": [],
   "source": [
    "##\n",
    "# File: sipp.ipynb\n",
    "# Purpose: Data analysis for the 2020 Census SIPP (Survey of Income and Program Participation).\n",
    "#\tCan read the entire dataset csv (4GB) and extract relevant columns. Relevant columns (those relating to retirement\n",
    "#\taccounts and identifiers) are saved to a smaller csv for analysis.\n",
    "#\tAlso runs calculations on relevant files and saves them for use in viz.\n",
    "\n",
    "import pandas as pd\n",
    "import numpy as np\n",
    "\n",
    "# Snippets from census.gov data usage guide\n",
    "rd_schema = pd.read_json('data/pu2021_schema.json')\n",
    "\n",
    "rd_schema['dtype'] = ['Int64' if x == 'integer' \\\n",
    "\t\t\telse 'object' if x == 'string' \\\n",
    "\t\t\telse 'Float64' if x == 'float' \\\n",
    "\t\t\telse 'ERROR' \\\n",
    "\t\t\tfor x in rd_schema['dtype']]"
   ]
  },
  {
   "cell_type": "code",
   "execution_count": 9,
   "metadata": {},
   "outputs": [
    {
     "name": "stdout",
     "output_type": "stream",
     "text": [
      "            SSUID  SPANEL  SWAVE  PNUM  ERELRPE  ESEX  EORIGIN  ERACE  EEDUC  \\\n",
      "0  00011428507021    2021      1   101        2     1        2      2     42   \n",
      "1  00011428507021    2021      1   101        2     1        2      2     42   \n",
      "2  00011428507021    2021      1   101        2     1        2      2     42   \n",
      "3  00011428507021    2021      1   101        2     1        2      2     42   \n",
      "4  00011428507021    2021      1   101        2     1        2      2     42   \n",
      "\n",
      "   EOWN_SAV  EOWN_CD  EOWN_ST  EOWN_IRAKEO  EOWN_THR401  MONTHCODE  \\\n",
      "0         1        2        2            2            2          1   \n",
      "1         1        2        2            2            2          2   \n",
      "2         1        2        2            2            2          3   \n",
      "3         1        2        2            2            2          4   \n",
      "4         1        2        2            2            2          5   \n",
      "\n",
      "  ERESIDENCEID  TAGE  TAGE_EHC  \n",
      "0       100001    32        30  \n",
      "1       100001    32        30  \n",
      "2       100001    32        31  \n",
      "3       100001    32        31  \n",
      "4       100001    32        31  \n"
     ]
    }
   ],
   "source": [
    "# USE THIS CELL TO EXTRACT COLUMNS FROM WHOLE DATASET -- DONT USE FOR CALCULATIONS\n",
    "# I (Amy) am not committing the full dataset to Git. If you need more columns, let me know and I will extract them.\n",
    "\n",
    "# Snippet from census.gov\n",
    "df_data = pd.read_csv(\"data/pu2021.csv\",\\\n",
    "\t\tnames=rd_schema['name'],\\\n",
    "\t\t#dtype expects a dictionary of key:values\n",
    "\t\tdtype = dict([(i,v) for i,v in zip(rd_schema['name'], rd_schema['dtype'])]),\\\n",
    "\t\t#files are pipe-delimited\n",
    "\t\tsep='|',\\\n",
    "\t\theader=0,\\\n",
    "\t\t#Add variables for analysis here. If you receive an out-of-memory error,\n",
    "\t\t#\teither select less columns, or consider using the Dask module\n",
    "\t\tusecols = [\n",
    "\t\t#Common record-identification variables\n",
    "\t\t'SSUID','PNUM','MONTHCODE','ERESIDENCEID','ERELRPE','SPANEL','SWAVE',\\\n",
    "\t\t#Common demographics variables, including age at time of interview (TAGE)\n",
    "\t\t#\tand monthly age during the reference period (TAGE_EHC)\n",
    "\t\t'ESEX','TAGE','TAGE_EHC','ERACE','EORIGIN','EEDUC',\\\n",
    "\t\t#Additional variables for analysis\n",
    "\t\t'EOWN_IRAKEO', 'EOWN_THR401','EOWN_SAV','EOWN_CD','EOWN_ST'\n",
    "\t\t\t]\n",
    "\t\t)\n",
    "#preview the data\t\t\n",
    "print(df_data.head())\n",
    "df_data.to_csv('data/sipp_data.csv') # Smaller csv that we can work with more easily"
   ]
  },
  {
   "cell_type": "code",
   "execution_count": 34,
   "metadata": {},
   "outputs": [
    {
     "name": "stdout",
     "output_type": "stream",
     "text": [
      "126156 164928 353364 28404\n"
     ]
    }
   ],
   "source": [
    "# USE THIS CELL WHEN CALCULATING\n",
    "data = pd.read_csv('data/sipp_data.csv')\n",
    "unique_data = data.drop_duplicates(subset=[\"SSUID\"])\n",
    "\n",
    "#print(unique_data.head())\n",
    "\n",
    "num_IRA = data[data['EOWN_IRAKEO'] == 1].count()['EOWN_IRAKEO']\n",
    "num_401 = data[data['EOWN_THR401'] == 1].count()['EOWN_THR401']\n",
    "num_SAV = data[data['EOWN_SAV'] == 1].count()['EOWN_SAV']\n",
    "num_CD = data[data['EOWN_CD'] == 1].count()['EOWN_CD']\n",
    "print(num_IRA, num_401, num_SAV, num_CD)\n",
    "#print(num_IRA)"
   ]
  },
  {
   "cell_type": "code",
   "execution_count": 58,
   "metadata": {},
   "outputs": [],
   "source": [
    "ages = unique_data.groupby('TAGE')['TAGE']\n",
    "\n",
    "accounts_by_age = {}\n",
    "for (i, _) in ages:\n",
    "    #print(i)\n",
    "    if not i in accounts_by_age:\n",
    "        accounts_by_age[i] = {}\n",
    "    aged_data = data[data['TAGE'] == i]\n",
    "    accounts_by_age[i]['num_SAV'] = int(aged_data[aged_data['EOWN_SAV'] == 1].count()['EOWN_SAV'])\n",
    "    accounts_by_age[i]['num_401'] = int(aged_data[aged_data['EOWN_THR401'] == 1].count()['EOWN_THR401'])\n",
    "    accounts_by_age[i]['num_CD'] = int(aged_data[aged_data['EOWN_CD'] == 1].count()['EOWN_CD'])\n",
    "    accounts_by_age[i]['num_IRA'] = int(aged_data[aged_data['EOWN_IRAKEO'] == 1].count()['EOWN_IRAKEO'])"
   ]
  },
  {
   "cell_type": "code",
   "execution_count": 59,
   "metadata": {},
   "outputs": [
    {
     "name": "stdout",
     "output_type": "stream",
     "text": [
      "{'account_nums': {'num_IRA': 126156, 'num_401k': 164928, 'num_savings': 353364, 'num_CD': 28404}, 'accounts_by_age': {'15': {'num_SAV': 1176, 'num_401': 24, 'num_CD': 48, 'num_IRA': 60}, '16': {'num_SAV': 2316, 'num_401': 0, 'num_CD': 72, 'num_IRA': 96}, '17': {'num_SAV': 2640, 'num_401': 24, 'num_CD': 60, 'num_IRA': 108}, '18': {'num_SAV': 2556, 'num_401': 0, 'num_CD': 96, 'num_IRA': 48}, '19': {'num_SAV': 2964, 'num_401': 108, 'num_CD': 72, 'num_IRA': 96}, '20': {'num_SAV': 4068, 'num_401': 444, 'num_CD': 72, 'num_IRA': 288}, '21': {'num_SAV': 4044, 'num_401': 624, 'num_CD': 84, 'num_IRA': 264}, '22': {'num_SAV': 3888, 'num_401': 552, 'num_CD': 72, 'num_IRA': 300}, '23': {'num_SAV': 4428, 'num_401': 1212, 'num_CD': 132, 'num_IRA': 456}, '24': {'num_SAV': 4392, 'num_401': 1608, 'num_CD': 108, 'num_IRA': 612}, '25': {'num_SAV': 4428, 'num_401': 2028, 'num_CD': 60, 'num_IRA': 612}, '26': {'num_SAV': 4248, 'num_401': 2340, 'num_CD': 96, 'num_IRA': 900}, '27': {'num_SAV': 4248, 'num_401': 2280, 'num_CD': 84, 'num_IRA': 972}, '28': {'num_SAV': 5112, 'num_401': 2772, 'num_CD': 96, 'num_IRA': 1080}, '29': {'num_SAV': 4644, 'num_401': 2772, 'num_CD': 168, 'num_IRA': 1020}, '30': {'num_SAV': 4920, 'num_401': 2916, 'num_CD': 132, 'num_IRA': 1380}, '31': {'num_SAV': 4740, 'num_401': 3156, 'num_CD': 192, 'num_IRA': 1104}, '32': {'num_SAV': 4836, 'num_401': 2808, 'num_CD': 120, 'num_IRA': 1200}, '33': {'num_SAV': 5340, 'num_401': 3360, 'num_CD': 168, 'num_IRA': 1380}, '34': {'num_SAV': 5160, 'num_401': 3408, 'num_CD': 192, 'num_IRA': 1572}, '35': {'num_SAV': 5220, 'num_401': 3432, 'num_CD': 132, 'num_IRA': 1404}, '36': {'num_SAV': 5580, 'num_401': 3612, 'num_CD': 120, 'num_IRA': 1500}, '37': {'num_SAV': 5208, 'num_401': 3300, 'num_CD': 168, 'num_IRA': 1716}, '38': {'num_SAV': 5472, 'num_401': 3528, 'num_CD': 156, 'num_IRA': 1608}, '39': {'num_SAV': 5700, 'num_401': 3888, 'num_CD': 144, 'num_IRA': 1716}, '40': {'num_SAV': 5064, 'num_401': 3504, 'num_CD': 204, 'num_IRA': 1584}, '41': {'num_SAV': 5412, 'num_401': 3540, 'num_CD': 168, 'num_IRA': 1668}, '42': {'num_SAV': 4860, 'num_401': 3264, 'num_CD': 156, 'num_IRA': 1548}, '43': {'num_SAV': 4860, 'num_401': 3312, 'num_CD': 156, 'num_IRA': 1488}, '44': {'num_SAV': 4908, 'num_401': 3168, 'num_CD': 192, 'num_IRA': 1680}, '45': {'num_SAV': 4884, 'num_401': 3168, 'num_CD': 240, 'num_IRA': 1392}, '46': {'num_SAV': 4248, 'num_401': 2976, 'num_CD': 132, 'num_IRA': 1188}, '47': {'num_SAV': 5136, 'num_401': 3024, 'num_CD': 204, 'num_IRA': 1668}, '48': {'num_SAV': 4968, 'num_401': 3324, 'num_CD': 144, 'num_IRA': 1728}, '49': {'num_SAV': 5016, 'num_401': 3108, 'num_CD': 300, 'num_IRA': 1404}, '50': {'num_SAV': 5556, 'num_401': 3456, 'num_CD': 300, 'num_IRA': 2016}, '51': {'num_SAV': 5472, 'num_401': 3156, 'num_CD': 192, 'num_IRA': 1968}, '52': {'num_SAV': 4992, 'num_401': 3516, 'num_CD': 276, 'num_IRA': 2076}, '53': {'num_SAV': 5220, 'num_401': 3240, 'num_CD': 348, 'num_IRA': 2028}, '54': {'num_SAV': 5292, 'num_401': 3348, 'num_CD': 324, 'num_IRA': 2088}, '55': {'num_SAV': 5532, 'num_401': 3432, 'num_CD': 336, 'num_IRA': 2100}, '56': {'num_SAV': 6180, 'num_401': 3888, 'num_CD': 288, 'num_IRA': 2232}, '57': {'num_SAV': 6180, 'num_401': 3780, 'num_CD': 636, 'num_IRA': 2448}, '58': {'num_SAV': 6300, 'num_401': 3828, 'num_CD': 552, 'num_IRA': 2568}, '59': {'num_SAV': 6564, 'num_401': 3972, 'num_CD': 492, 'num_IRA': 2688}, '60': {'num_SAV': 7176, 'num_401': 4128, 'num_CD': 696, 'num_IRA': 2772}, '61': {'num_SAV': 6780, 'num_401': 3720, 'num_CD': 660, 'num_IRA': 2868}, '62': {'num_SAV': 6876, 'num_401': 3864, 'num_CD': 468, 'num_IRA': 3264}, '63': {'num_SAV': 7068, 'num_401': 3684, 'num_CD': 756, 'num_IRA': 3216}, '64': {'num_SAV': 6996, 'num_401': 3360, 'num_CD': 720, 'num_IRA': 2880}, '65': {'num_SAV': 6720, 'num_401': 2964, 'num_CD': 672, 'num_IRA': 3384}, '66': {'num_SAV': 6888, 'num_401': 2232, 'num_CD': 864, 'num_IRA': 3228}, '67': {'num_SAV': 6444, 'num_401': 2412, 'num_CD': 804, 'num_IRA': 3168}, '68': {'num_SAV': 6540, 'num_401': 2412, 'num_CD': 696, 'num_IRA': 3276}, '69': {'num_SAV': 6336, 'num_401': 2268, 'num_CD': 900, 'num_IRA': 3288}, '70': {'num_SAV': 6012, 'num_401': 1800, 'num_CD': 840, 'num_IRA': 3228}, '71': {'num_SAV': 6276, 'num_401': 1956, 'num_CD': 1020, 'num_IRA': 3204}, '72': {'num_SAV': 5868, 'num_401': 1668, 'num_CD': 912, 'num_IRA': 2988}, '73': {'num_SAV': 5808, 'num_401': 1512, 'num_CD': 852, 'num_IRA': 3036}, '74': {'num_SAV': 5700, 'num_401': 1392, 'num_CD': 888, 'num_IRA': 2940}, '75': {'num_SAV': 4488, 'num_401': 948, 'num_CD': 684, 'num_IRA': 2256}, '76': {'num_SAV': 3876, 'num_401': 840, 'num_CD': 708, 'num_IRA': 1884}, '77': {'num_SAV': 4128, 'num_401': 996, 'num_CD': 792, 'num_IRA': 2016}, '78': {'num_SAV': 3816, 'num_401': 780, 'num_CD': 660, 'num_IRA': 1884}, '79': {'num_SAV': 3432, 'num_401': 672, 'num_CD': 588, 'num_IRA': 1800}, '80': {'num_SAV': 2940, 'num_401': 372, 'num_CD': 504, 'num_IRA': 1392}, '81': {'num_SAV': 2724, 'num_401': 444, 'num_CD': 600, 'num_IRA': 1308}, '82': {'num_SAV': 2400, 'num_401': 348, 'num_CD': 372, 'num_IRA': 1176}, '83': {'num_SAV': 2496, 'num_401': 348, 'num_CD': 480, 'num_IRA': 1212}, '84': {'num_SAV': 1848, 'num_401': 300, 'num_CD': 456, 'num_IRA': 1032}, '85': {'num_SAV': 1752, 'num_401': 228, 'num_CD': 324, 'num_IRA': 912}, '86': {'num_SAV': 1644, 'num_401': 288, 'num_CD': 444, 'num_IRA': 780}, '87': {'num_SAV': 2280, 'num_401': 336, 'num_CD': 600, 'num_IRA': 1092}, '88': {'num_SAV': 1836, 'num_401': 240, 'num_CD': 408, 'num_IRA': 708}, '89': {'num_SAV': 432, 'num_401': 36, 'num_CD': 72, 'num_IRA': 228}, '90': {'num_SAV': 1812, 'num_401': 180, 'num_CD': 480, 'num_IRA': 684}}}\n"
     ]
    }
   ],
   "source": [
    "# Save to JSON for viz\n",
    "import json\n",
    "\n",
    "to_write = {\n",
    "    \"account_nums\": {\n",
    "        \"num_IRA\": int(num_IRA),\n",
    "        \"num_401k\": int(num_401),\n",
    "        \"num_savings\": int(num_SAV),\n",
    "        \"num_CD\": int(num_CD)\n",
    "    },\n",
    "    \"accounts_by_age\": {}\n",
    "}\n",
    "\n",
    "for i in accounts_by_age:\n",
    "    to_write['accounts_by_age'][str(i)] = accounts_by_age[i]\n",
    "\n",
    "print(to_write)\n",
    "    \n",
    "json_object = json.dumps(to_write, indent=4)\n",
    "with open(\"data/sipp.json\", \"w\") as outfile:\n",
    "    outfile.write(json_object)"
   ]
  }
 ],
 "metadata": {
  "kernelspec": {
   "display_name": "base",
   "language": "python",
   "name": "python3"
  },
  "language_info": {
   "codemirror_mode": {
    "name": "ipython",
    "version": 3
   },
   "file_extension": ".py",
   "mimetype": "text/x-python",
   "name": "python",
   "nbconvert_exporter": "python",
   "pygments_lexer": "ipython3",
   "version": "3.11.2"
  },
  "orig_nbformat": 4
 },
 "nbformat": 4,
 "nbformat_minor": 2
}
