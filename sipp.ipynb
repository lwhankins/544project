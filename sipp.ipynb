{
 "cells": [
  {
   "cell_type": "code",
   "execution_count": 8,
   "metadata": {},
   "outputs": [],
   "source": [
    "##\n",
    "# File: sipp.ipynb\n",
    "# Purpose: Data analysis for the 2020 Census SIPP (Survey of Income and Program Participation).\n",
    "#\tCan read the entire dataset csv (4GB) and extract relevant columns. Relevant columns (those relating to retirement\n",
    "#\taccounts and identifiers) are saved to a smaller csv for analysis.\n",
    "#\tAlso runs calculations on relevant files and saves them for use in viz.\n",
    "\n",
    "import pandas as pd\n",
    "import numpy as np\n",
    "\n",
    "# Snippets from census.gov data usage guide\n",
    "rd_schema = pd.read_json('data/pu2021_schema.json')\n",
    "\n",
    "rd_schema['dtype'] = ['Int64' if x == 'integer' \\\n",
    "\t\t\telse 'object' if x == 'string' \\\n",
    "\t\t\telse 'Float64' if x == 'float' \\\n",
    "\t\t\telse 'ERROR' \\\n",
    "\t\t\tfor x in rd_schema['dtype']]"
   ]
  },
  {
   "cell_type": "code",
   "execution_count": 9,
   "metadata": {},
   "outputs": [
    {
     "name": "stdout",
     "output_type": "stream",
     "text": [
      "            SSUID  SPANEL  SWAVE  PNUM  ERELRPE  ESEX  EORIGIN  ERACE  EEDUC  \\\n",
      "0  00011428507021    2021      1   101        2     1        2      2     42   \n",
      "1  00011428507021    2021      1   101        2     1        2      2     42   \n",
      "2  00011428507021    2021      1   101        2     1        2      2     42   \n",
      "3  00011428507021    2021      1   101        2     1        2      2     42   \n",
      "4  00011428507021    2021      1   101        2     1        2      2     42   \n",
      "\n",
      "   EOWN_SAV  EOWN_CD  EOWN_ST  EOWN_IRAKEO  EOWN_THR401  MONTHCODE  \\\n",
      "0         1        2        2            2            2          1   \n",
      "1         1        2        2            2            2          2   \n",
      "2         1        2        2            2            2          3   \n",
      "3         1        2        2            2            2          4   \n",
      "4         1        2        2            2            2          5   \n",
      "\n",
      "  ERESIDENCEID  TAGE  TAGE_EHC  \n",
      "0       100001    32        30  \n",
      "1       100001    32        30  \n",
      "2       100001    32        31  \n",
      "3       100001    32        31  \n",
      "4       100001    32        31  \n"
     ]
    }
   ],
   "source": [
    "# USE THIS CELL TO EXTRACT COLUMNS FROM WHOLE DATASET -- DONT USE FOR CALCULATIONS\n",
    "# I (Amy) am not committing the full dataset to Git. If you need more columns, let me know and I will extract them.\n",
    "\n",
    "# Snippet from census.gov\n",
    "df_data = pd.read_csv(\"data/pu2021.csv\",\\\n",
    "\t\tnames=rd_schema['name'],\\\n",
    "\t\t#dtype expects a dictionary of key:values\n",
    "\t\tdtype = dict([(i,v) for i,v in zip(rd_schema['name'], rd_schema['dtype'])]),\\\n",
    "\t\t#files are pipe-delimited\n",
    "\t\tsep='|',\\\n",
    "\t\theader=0,\\\n",
    "\t\t#Add variables for analysis here. If you receive an out-of-memory error,\n",
    "\t\t#\teither select less columns, or consider using the Dask module\n",
    "\t\tusecols = [\n",
    "\t\t#Common record-identification variables\n",
    "\t\t'SSUID','PNUM','MONTHCODE','ERESIDENCEID','ERELRPE','SPANEL','SWAVE',\\\n",
    "\t\t#Common demographics variables, including age at time of interview (TAGE)\n",
    "\t\t#\tand monthly age during the reference period (TAGE_EHC)\n",
    "\t\t'ESEX','TAGE','TAGE_EHC','ERACE','EORIGIN','EEDUC',\\\n",
    "\t\t#Additional variables for analysis\n",
    "\t\t'EOWN_IRAKEO', 'EOWN_THR401','EOWN_SAV','EOWN_CD','EOWN_ST'\n",
    "\t\t\t]\n",
    "\t\t)\n",
    "#preview the data\t\t\n",
    "print(df_data.head())\n",
    "df_data.to_csv('data/sipp_data.csv') # Smaller csv that we can work with more easily"
   ]
  },
  {
   "cell_type": "code",
   "execution_count": 28,
   "metadata": {},
   "outputs": [
    {
     "name": "stdout",
     "output_type": "stream",
     "text": [
      "126156 164928 353364 28404\n"
     ]
    }
   ],
   "source": [
    "# USE THIS CELL WHEN CALCULATING\n",
    "data = pd.read_csv('data/sipp_data.csv')\n",
    "unique_data = data.drop_duplicates(subset=[\"SSUID\"])\n",
    "#print(unique_data.head())\n",
    "\n",
    "num_IRA = data[data['EOWN_IRAKEO'] == 1].count()['EOWN_IRAKEO']\n",
    "num_401 = data[data['EOWN_THR401'] == 1].count()['EOWN_THR401']\n",
    "num_SAV = data[data['EOWN_SAV'] == 1].count()['EOWN_SAV']\n",
    "num_CD = data[data['EOWN_CD'] == 1].count()['EOWN_CD']\n",
    "print(num_IRA, num_401, num_SAV, num_CD)\n",
    "#print(num_IRA)"
   ]
  },
  {
   "cell_type": "code",
   "execution_count": 32,
   "metadata": {},
   "outputs": [],
   "source": [
    "# Save to JSON for viz\n",
    "import json\n",
    "\n",
    "to_write = {\n",
    "    \"account_nums\": {\n",
    "        \"num_IRA\": int(num_IRA),\n",
    "        \"num_401k\": int(num_401),\n",
    "        \"num_savings\": int(num_SAV),\n",
    "        \"num_CD\": int(num_CD)\n",
    "    }\n",
    "}\n",
    "    \n",
    "json_object = json.dumps(to_write, indent=4)\n",
    "with open(\"data/sipp.json\", \"w\") as outfile:\n",
    "    outfile.write(json_object)"
   ]
  }
 ],
 "metadata": {
  "kernelspec": {
   "display_name": "base",
   "language": "python",
   "name": "python3"
  },
  "language_info": {
   "codemirror_mode": {
    "name": "ipython",
    "version": 3
   },
   "file_extension": ".py",
   "mimetype": "text/x-python",
   "name": "python",
   "nbconvert_exporter": "python",
   "pygments_lexer": "ipython3",
   "version": "3.11.2"
  },
  "orig_nbformat": 4
 },
 "nbformat": 4,
 "nbformat_minor": 2
}
